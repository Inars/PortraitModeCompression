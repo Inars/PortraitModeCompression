{
 "cells": [
  {
   "cell_type": "markdown",
   "metadata": {},
   "source": [
    "# Importing the necessary libraries"
   ]
  },
  {
   "cell_type": "code",
   "execution_count": 1,
   "metadata": {},
   "outputs": [],
   "source": [
    "import torch\n",
    "from torchvision import transforms\n",
    "\n",
    "from modules.unet import UNet, UNetReshade\n",
    "\n",
    "import PIL\n",
    "from PIL import Image\n",
    "\n",
    "import argparse\n",
    "import os.path\n",
    "from pathlib import Path\n",
    "import glob\n",
    "import sys\n",
    "import cv2\n",
    "import numpy as np\n",
    "\n",
    "import pdb\n",
    "\n",
    "import compression\n",
    "import lbg\n",
    "\n",
    "from LZW import LZW"
   ]
  },
  {
   "cell_type": "markdown",
   "metadata": {},
   "source": [
    "# Creating and storing a binary depth image"
   ]
  },
  {
   "cell_type": "code",
   "execution_count": 2,
   "metadata": {},
   "outputs": [],
   "source": [
    "def thresh_depth_img(img_path_o, percentile):\n",
    "    \n",
    "    root_dir = './models/'\n",
    "    trans_totensor = transforms.Compose([transforms.Resize(256, interpolation=PIL.Image.BILINEAR),\n",
    "                                        transforms.CenterCrop(256),\n",
    "                                        transforms.ToTensor()])\n",
    "    trans_topil = transforms.ToPILImage()\n",
    "\n",
    "    os.system(f\"mkdir -p assets/\")\n",
    "\n",
    "    models = [UNet(), UNet(downsample=6, out_channels=1), UNetReshade(downsample=5)]\n",
    "    model = models[1]\n",
    "\n",
    "    map_location = (lambda storage, loc: storage.cuda()) if torch.cuda.is_available() else torch.device('cpu')\n",
    "\n",
    "    img_path = Path(img_path_o)\n",
    "\n",
    "    img = Image.open(img_path)\n",
    "    img_tensor = trans_totensor(img)[:3].unsqueeze(0)\n",
    "\n",
    "    # compute consistency output\n",
    "    path = './models/rgb2depth_consistency.pth'\n",
    "    model_state_dict = torch.load(path, map_location=map_location)\n",
    "    model.load_state_dict(model_state_dict)\n",
    "    baseline_output = model(img_tensor).clamp(min=0, max=1)\n",
    "    output_img = baseline_output[0].detach().numpy()[0]\n",
    "\n",
    "    thresh_img = output_img.copy()\n",
    "    thresh = np.percentile(thresh_img, percentile)\n",
    "    for i in range(thresh_img.shape[0]):\n",
    "        for j in range(thresh_img.shape[1]):\n",
    "            if thresh_img[i, j] < thresh :\n",
    "                thresh_img[i, j] = 0\n",
    "            elif thresh_img[i, j] >= thresh :\n",
    "                thresh_img[i, j] = 255\n",
    "    index1 = img_path_o.find(\"\\\\\")\n",
    "    index2 = img_path_o.find(\".\")\n",
    "    thresh_img_path = \"binaryImages\"+ img_path_o[index1:index2]+ \"_BinaryDepth.jpg\"\n",
    "    cv2.imwrite(thresh_img_path, thresh_img)\n",
    "    return thresh_img_path"
   ]
  },
  {
   "cell_type": "code",
   "execution_count": 4,
   "metadata": {
    "scrolled": true
   },
   "outputs": [
    {
     "data": {
      "text/plain": [
       "'binaryImages\\\\DogPortrait2_BinaryDepth.jpg'"
      ]
     },
     "execution_count": 4,
     "metadata": {},
     "output_type": "execute_result"
    }
   ],
   "source": [
    "thresh_depth_img(\"Images\\\\Chair.jpg\", 50)\n",
    "thresh_depth_img(\"Images\\\\DogPortrait.jpg\", 50)\n",
    "thresh_depth_img(\"Images\\\\DogPortrait2.jpg\", 50)"
   ]
  },
  {
   "cell_type": "markdown",
   "metadata": {},
   "source": [
    "# LBG compression and decompression functions"
   ]
  },
  {
   "cell_type": "code",
   "execution_count": 3,
   "metadata": {},
   "outputs": [],
   "source": [
    "def lbg_compressing(img_path, cb_size, block, epsilon=0.00005):\n",
    "    \"\"\"\n",
    "    This function needed for doing simulation for different scenario.\n",
    "    \"\"\"\n",
    "    index1 = img_path.find(\"\\\\\")\n",
    "    img_name = img_path[index1+1:]\n",
    "    imgO = cv2.imread(img_path)\n",
    "    imgRes = np.zeros((imgO.shape[0]//block[0], imgO.shape[1]//block[1], imgO.shape[2]))\n",
    "    list_cb = np.zeros((imgO.shape[2], cb_size, block[0]*block[1]))\n",
    "    for i in range(3):\n",
    "        img = imgO[:, :, i]\n",
    "        train_X = compression.generate_training(img, block)\n",
    "        cb, cb_abs_w, cb_rel_w = lbg.generate_codebook(train_X, cb_size, epsilon)\n",
    "        cb_n = np.array(cb)\n",
    "        list_cb[i] = cb_n\n",
    "        result = compression.encode_image(img, cb_n, block)\n",
    "        imgRes[:, :, i] = result\n",
    "    index = img_name.find(\".\")\n",
    "    encoded_file_path = \"CompressedFiles\\\\\" +img_name[:index]+\"_Compressed_LBG.npz\"\n",
    "    np.savez_compressed(file=encoded_file_path, imgComp=imgRes, list_cb=list_cb, blockList=np.array(block))\n",
    "    return encoded_file_path\n",
    "\n",
    "def lbg_decompressing(encoded_file_path):\n",
    "    \"\"\"\n",
    "    This function needed for doing simulation for different scenario.\n",
    "    \"\"\"\n",
    "    index1 = encoded_file_path.find(\"\\\\\")\n",
    "    file_name = encoded_file_path[index1+1:]\n",
    "    data = np.load(encoded_file_path)\n",
    "    imgC = data['imgComp']\n",
    "    list_cb = data['list_cb']\n",
    "    blockList = data['blockList']\n",
    "    block = (blockList[0], blockList[1])\n",
    "    data.close()\n",
    "    imgFinRes = np.zeros((imgC.shape[0]*block[0], imgC.shape[1]*block[1], imgC.shape[2]))\n",
    "    for i in range(3):\n",
    "        comp = imgC[:, :, i]\n",
    "        cb_n = list_cb[i]\n",
    "        final_result = compression.decode_image(cb_n, comp, block)\n",
    "        imgFinRes[:, :, i] = final_result\n",
    "    index = file_name.find(\"_\")\n",
    "    imgComp_path = \"DecompressedFiles\\\\\"+file_name[:index]+\"_Decompressed_LBG.jpg\"\n",
    "    cv2.imwrite(imgComp_path, imgFinRes)\n",
    "    return imgComp_path"
   ]
  },
  {
   "cell_type": "code",
   "execution_count": 8,
   "metadata": {},
   "outputs": [
    {
     "data": {
      "text/plain": [
       "array([[[ 57.77327394,  63.39876719,  68.72952985],\n",
       "        [ 56.13942094,  61.93266951,  67.02377179],\n",
       "        [ 56.37906459,  61.94973921,  67.6064448 ],\n",
       "        ...,\n",
       "        [164.6104712 , 170.30681818, 173.11968777],\n",
       "        [164.34450262, 169.24337121, 171.93148309],\n",
       "        [163.62513089, 168.00757576, 170.41717259]],\n",
       "\n",
       "       [[ 56.9389755 ,  62.62256994,  67.49762282],\n",
       "        [ 55.05924276,  60.80559507,  65.44215531],\n",
       "        [ 54.98173719,  60.42342342,  65.62651875],\n",
       "        ...,\n",
       "        [166.4617801 , 171.98011364, 174.54553339],\n",
       "        [165.12041885, 170.19128788, 172.58542931],\n",
       "        [163.64188482, 168.46875   , 170.8378144 ]],\n",
       "\n",
       "       [[ 56.53719376,  62.14698909,  66.98679345],\n",
       "        [ 54.46280624,  60.19677572,  64.8594823 ],\n",
       "        [ 54.14832962,  59.56804173,  64.67194929],\n",
       "        ...,\n",
       "        [167.13193717, 172.87121212, 174.9037294 ],\n",
       "        [166.04397906, 171.31155303, 173.22896791],\n",
       "        [164.78534031, 169.63825758, 171.5169124 ]],\n",
       "\n",
       "       ...,\n",
       "\n",
       "       [[ 56.43028953,  62.13134187,  67.21236133],\n",
       "        [ 54.41959911,  60.14935989,  64.94453249],\n",
       "        [ 54.03563474,  59.41631105,  64.6328579 ],\n",
       "        ...,\n",
       "        [225.7524144 , 224.24465116, 223.43585237],\n",
       "        [222.90693591, 221.60093023, 221.16871705],\n",
       "        [218.92273924, 217.91906977, 217.58260105]],\n",
       "\n",
       "       [[ 57.20534521,  63.08155524,  68.30163761],\n",
       "        [ 55.18173719,  61.13703177,  66.15425251],\n",
       "        [ 54.83563474,  60.35135135,  65.78658214],\n",
       "        ...,\n",
       "        [224.52414399, 223.00093023, 222.07029877],\n",
       "        [222.02019315, 220.65860465, 220.12741652],\n",
       "        [218.54170325, 217.5227907 , 217.23901582]],\n",
       "\n",
       "       [[ 58.79910913,  65.15078236,  70.69889065],\n",
       "        [ 56.88685969,  63.30156472,  68.61965135],\n",
       "        [ 56.67305122,  62.55334282,  68.37506603],\n",
       "        ...,\n",
       "        [221.60052678, 220.73395349, 219.98681898],\n",
       "        [219.0834065 , 218.42883721, 218.05008787],\n",
       "        [215.83669886, 215.49395349, 215.41915641]]])"
      ]
     },
     "execution_count": 8,
     "metadata": {},
     "output_type": "execute_result"
    }
   ],
   "source": [
    "lbg_compressing(\"Images\\\\Chair.jpg\", 4, (4, 10))\n",
    "lbg_compressing(\"Images\\\\DogPortrait.jpg\", 4, (5,6))\n",
    "lbg_compressing(\"Images\\\\DogPortrait2.jpg\", 4, (6, 8))\n",
    "\n",
    "lbg_decompressing(\"CompressedFiles\\\\Chair_Compressed_LBG.npz\")\n",
    "lbg_decompressing(\"CompressedFiles\\\\DogPortrait_Compressed_LBG.npz\")\n",
    "lbg_decompressing(\"CompressedFiles\\\\DogPortrait2_Compressed_LBG.npz\")"
   ]
  },
  {
   "cell_type": "markdown",
   "metadata": {},
   "source": [
    "# LZW compression and decompression (look into file LZW.py for functions)"
   ]
  },
  {
   "cell_type": "code",
   "execution_count": 4,
   "metadata": {},
   "outputs": [],
   "source": [
    "def lzw_compression(img_path):\n",
    "    LZW(img_path).compress()\n",
    "\n",
    "def lzw_decompression(compressed_file_path):\n",
    "    LZW(compressed_file_path).decompress()"
   ]
  },
  {
   "cell_type": "code",
   "execution_count": 6,
   "metadata": {},
   "outputs": [
    {
     "name": "stdout",
     "output_type": "stream",
     "text": [
      "Compressing Image ...\n",
      "Compressing Image ...\n",
      "Compressing Image ...\n",
      "Image Compressed --------- Writing to File\n",
      "Compressing Image ...\n",
      "Compressing Image ...\n",
      "Compressing Image ...\n",
      "Image Compressed --------- Writing to File\n",
      "Compressing Image ...\n",
      "Compressing Image ...\n",
      "Compressing Image ...\n",
      "Image Compressed --------- Writing to File\n",
      "Decompressing File ...\n",
      "Saving Decompressed File...\n",
      "Decompression Done.\n",
      "Decompressing File ...\n",
      "Saving Decompressed File...\n",
      "Decompression Done.\n",
      "Decompressing File ...\n",
      "Saving Decompressed File...\n",
      "Decompression Done.\n"
     ]
    }
   ],
   "source": [
    "lzw_compression(\"Images\\\\Chair.jpg\")\n",
    "lzw_compression(\"Images\\\\DogPortrait.jpg\")\n",
    "lzw_compression(\"Images\\\\DogPortrait2.jpg\")\n",
    "\n",
    "lzw_decompression(\"CompressedFiles\\\\Chair_Compressed_LZW.lzw\")\n",
    "lzw_decompression(\"CompressedFiles\\\\DogPortrait_Compressed_LZW.lzw\")\n",
    "lzw_decompression(\"CompressedFiles\\\\DogPortrait2_Compressed_LZW.lzw\")"
   ]
  }
 ],
 "metadata": {
  "kernelspec": {
   "display_name": "Python 3",
   "language": "python",
   "name": "python3"
  },
  "language_info": {
   "codemirror_mode": {
    "name": "ipython",
    "version": 3
   },
   "file_extension": ".py",
   "mimetype": "text/x-python",
   "name": "python",
   "nbconvert_exporter": "python",
   "pygments_lexer": "ipython3",
   "version": "3.7.4"
  }
 },
 "nbformat": 4,
 "nbformat_minor": 2
}
